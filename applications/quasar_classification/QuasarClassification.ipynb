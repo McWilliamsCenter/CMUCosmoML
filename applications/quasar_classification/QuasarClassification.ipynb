{
 "cells": [
  {
   "cell_type": "code",
   "execution_count": 1,
   "metadata": {},
   "outputs": [
    {
     "name": "stdout",
     "output_type": "stream",
     "text": [
      "Populating the interactive namespace from numpy and matplotlib\n"
     ]
    }
   ],
   "source": [
    "%pylab inline"
   ]
  },
  {
   "cell_type": "code",
   "execution_count": 2,
   "metadata": {},
   "outputs": [],
   "source": [
    "from astropy.table import Table"
   ]
  },
  {
   "cell_type": "code",
   "execution_count": 3,
   "metadata": {},
   "outputs": [],
   "source": [
    "data_table = Table.read('peters_2015_data.fits.gz')\n",
    "\n",
    "data_table['time_series'] = clip(data_table['time_series'] /10.,-1.,1.)\n",
    "data_table['time_series'][:,:,0] =data_table['time_series'][:,:,0]*10.\n",
    "\n",
    "randomize_inds = range(len(data_table))\n",
    "randomize_inds = permutation(randomize_inds)\n",
    "\n",
    "randomized_inds_train = randomize_inds[0:60000]\n",
    "randomized_inds_test  = randomize_inds[60000:]"
   ]
  },
  {
   "cell_type": "code",
   "execution_count": 4,
   "metadata": {},
   "outputs": [
    {
     "name": "stderr",
     "output_type": "stream",
     "text": [
      "/home/francois/.local/lib/python3.6/site-packages/h5py/__init__.py:36: FutureWarning: Conversion of the second argument of issubdtype from `float` to `np.floating` is deprecated. In future, it will be treated as `np.float64 == np.dtype(float).type`.\n",
      "  from ._conv import register_converters as _register_converters\n"
     ]
    }
   ],
   "source": [
    "import tensorflow as tf\n",
    "\n",
    "def input_fn_train():\n",
    "    def mapping_function(x):\n",
    "        \n",
    "        def extract_batch(inds):\n",
    "            inds = randomized_inds_train[inds]\n",
    "            return data_table['secure_label'][inds].astype('float32'), clip(data_table['obs_len'][inds],0,79).astype('int32'),data_table['time_series'][inds][:,:,0:6].astype('float32') \n",
    "        a,b,c =tf.py_func( extract_batch, [x], [tf.float32, tf.int32, tf.float32])\n",
    "        a.set_shape([None])\n",
    "        b.set_shape([None])\n",
    "        c.set_shape([None,80,6])\n",
    "        return a,b,c\n",
    "\n",
    "    dataset = tf.data.Dataset.range(len(randomized_inds_train)).repeat(None)\n",
    "    dataset = dataset.shuffle(buffer_size=50000).batch(512)\n",
    "    dataset = dataset.map( mapping_function )\n",
    "    iterator = dataset.make_one_shot_iterator()\n",
    "    label, length, ts = iterator.get_next()\n",
    "    return  {'length':length, 'ts':ts}, label\n",
    "\n",
    "def input_fn_train_test():\n",
    "    def mapping_function(x):\n",
    "        \n",
    "        def extract_batch(inds):\n",
    "            inds = randomized_inds_train[inds]\n",
    "            return data_table['secure_label'][inds].astype('float32'), clip(data_table['obs_len'][inds],0,79).astype('int32'),data_table['time_series'][inds][:,:,0:6].astype('float32') \n",
    "        a,b,c =tf.py_func( extract_batch, [x], [tf.float32, tf.int32, tf.float32])\n",
    "        a.set_shape([None])\n",
    "        b.set_shape([None])\n",
    "        c.set_shape([None,80,6])\n",
    "        return a,b,c\n",
    "\n",
    "    dataset = tf.data.Dataset.range(len(randomized_inds_train))\n",
    "    dataset = dataset.batch(512)\n",
    "    dataset = dataset.map( mapping_function )\n",
    "    iterator = dataset.make_one_shot_iterator()\n",
    "    label, length, ts = iterator.get_next()\n",
    "    return  {'length':length, 'ts':ts}, label\n",
    "\n",
    "\n",
    "def input_fn_test():\n",
    "    def mapping_function(x):\n",
    "        \n",
    "        def extract_batch(inds):\n",
    "            inds = randomized_inds_test[inds]\n",
    "            return data_table['secure_label'][inds].astype('float32'), clip(data_table['obs_len'][inds],0,79).astype('int32'),data_table['time_series'][inds][:,:,0:6].astype('float32') \n",
    "        a,b,c =tf.py_func( extract_batch, [x], [tf.float32, tf.int32, tf.float32])\n",
    "        a.set_shape([None])\n",
    "        b.set_shape([None])\n",
    "        c.set_shape([None,80,6])\n",
    "        return a,b,c\n",
    "\n",
    "    dataset = tf.data.Dataset.range(len(randomized_inds_test))\n",
    "    dataset = dataset.batch(512)\n",
    "    dataset = dataset.map( mapping_function )\n",
    "    iterator = dataset.make_one_shot_iterator()\n",
    "    label, length, ts = iterator.get_next()\n",
    "    return  {'length':length, 'ts':ts}, label\n"
   ]
  },
  {
   "cell_type": "code",
   "execution_count": 29,
   "metadata": {},
   "outputs": [],
   "source": [
    "# Build model function for time series classifier\n",
    "import tensorflow.contrib.slim as slim\n",
    "from tensorflow.contrib.rnn import MultiRNNCell, DropoutWrapper, LSTMCell\n",
    "from tensorflow.contrib.rnn import DropoutWrapper\n",
    "\n",
    "def _rnn_model_fn(features, labels, hidden_units, optimizer, activation_fn, normalizer_fn, dropout, mode):\n",
    "\n",
    "    # Check for training mode\n",
    "    is_training = mode == tf.estimator.ModeKeys.TRAIN\n",
    "    if not is_training:\n",
    "        dropout=1.0\n",
    "\n",
    "    # Extracts the features\n",
    "    input_layer = features['ts']\n",
    "    length_layer = features['length']\n",
    "\n",
    "    # Builds a recurrent neural network\n",
    "    def cell(num_hidden):\n",
    "        return DropoutWrapper(LSTMCell(num_hidden, name='LSTM'), output_keep_prob=dropout)\n",
    "\n",
    "    # Defines the LSTM network\n",
    "    network = MultiRNNCell([cell(n) for n in hidden_units])\n",
    "    \n",
    "    # Apply it to the input data\n",
    "    rnn_outputs, final_state = tf.nn.dynamic_rnn(network, input_layer,\n",
    "                                                 sequence_length=length_layer,\n",
    "                                                 dtype=tf.float32,\n",
    "                                                 scope='rnn')\n",
    "    last_rnn_output = final_state[-1].h\n",
    "\n",
    "    # Applies a last MLP for building the final prediction\n",
    "    logits = slim.fully_connected(last_rnn_output, 128, scope='fc/fc_1',  activation_fn=tf.nn.elu)\n",
    "    #logits = slim.fully_connected(logits, 128, scope='fc/fc_2',  activation_fn=tf.nn.elu)\n",
    "    logits = tf.reshape(slim.fully_connected(logits, 1, scope='fc/fc_3',  activation_fn=None), (-1,))\n",
    "\n",
    "    prob = tf.nn.sigmoid(logits)\n",
    "    \n",
    "    predictions = {'prob': prob, 'last_rnn':last_rnn_output, 'rnn':rnn_outputs}\n",
    "\n",
    "    if mode == tf.estimator.ModeKeys.PREDICT:\n",
    "        return tf.estimator.EstimatorSpec(mode=mode, predictions=predictions,\n",
    "                                          export_outputs={'prob': tf.estimator.export.PredictOutput(predictions),\n",
    "                                                          tf.saved_model.signature_constants.DEFAULT_SERVING_SIGNATURE_DEF_KEY: tf.estimator.export.PredictOutput(predictions)})\n",
    "\n",
    "    # Compute and register loss function\n",
    "    loss = tf.reduce_mean(tf.nn.sigmoid_cross_entropy_with_logits(labels=tf.cast(labels, tf.float32), logits=logits))\n",
    "    tf.losses.add_loss(loss)\n",
    "    total_loss = tf.losses.get_total_loss()\n",
    "\n",
    "    train_op = None\n",
    "    eval_metric_ops = None\n",
    "\n",
    "    # Define optimizer\n",
    "    if mode == tf.estimator.ModeKeys.TRAIN:\n",
    "        update_ops = tf.get_collection(tf.GraphKeys.UPDATE_OPS)\n",
    "        with tf.control_dependencies(update_ops):\n",
    "            train_op = optimizer(learning_rate=0.00002).minimize(loss=total_loss,\n",
    "                                        global_step=tf.train.get_global_step())\n",
    "        tf.summary.scalar('loss', total_loss)\n",
    "\n",
    "    elif mode == tf.estimator.ModeKeys.EVAL:\n",
    "        eval_metric_ops = {\"log_p\": loss}\n",
    "\n",
    "    return tf.estimator.EstimatorSpec(mode=mode,\n",
    "                                      predictions=predictions,\n",
    "                                      loss=total_loss,\n",
    "                                      train_op=train_op,\n",
    "                                      eval_metric_ops=eval_metric_ops)\n"
   ]
  },
  {
   "cell_type": "code",
   "execution_count": 30,
   "metadata": {},
   "outputs": [],
   "source": [
    "class RNNClassifier(tf.estimator.Estimator):\n",
    "    \"\"\"A classifier for time series data\n",
    "    \"\"\"\n",
    "\n",
    "    def __init__(self,\n",
    "               hidden_units,\n",
    "               optimizer=tf.train.AdamOptimizer,\n",
    "               activation_fn=tf.nn.relu,\n",
    "               normalizer_fn=slim.batch_norm,\n",
    "               dropout=None,\n",
    "               model_dir=None,\n",
    "               config=None):\n",
    "        \"\"\"Initializes a `MDNEstimator` instance.\n",
    "        \"\"\"\n",
    "\n",
    "        def _model_fn(features, labels, mode):\n",
    "            return _rnn_model_fn(features, labels, hidden_units, optimizer, activation_fn,\n",
    "                              normalizer_fn, dropout, mode)\n",
    "\n",
    "        super(self.__class__, self).__init__(model_fn=_model_fn,\n",
    "                                             model_dir=model_dir,\n",
    "                                             config=config)"
   ]
  },
  {
   "cell_type": "code",
   "execution_count": 31,
   "metadata": {},
   "outputs": [
    {
     "name": "stdout",
     "output_type": "stream",
     "text": [
      "INFO:tensorflow:Using default config.\n",
      "INFO:tensorflow:Using config: {'_model_dir': '/data2/rnn/logs/rnn17', '_tf_random_seed': None, '_save_summary_steps': 100, '_save_checkpoints_steps': None, '_save_checkpoints_secs': 600, '_session_config': None, '_keep_checkpoint_max': 5, '_keep_checkpoint_every_n_hours': 10000, '_log_step_count_steps': 100, '_service': None, '_cluster_spec': <tensorflow.python.training.server_lib.ClusterSpec object at 0x7f4b98056978>, '_task_type': 'worker', '_task_id': 0, '_global_id_in_cluster': 0, '_master': '', '_evaluation_master': '', '_is_chief': True, '_num_ps_replicas': 0, '_num_worker_replicas': 1}\n"
     ]
    }
   ],
   "source": [
    "# Create the model\n",
    "model = RNNClassifier(hidden_units=[256,256], dropout=1.0, model_dir='/data2/rnn/logs/rnn18')"
   ]
  },
  {
   "cell_type": "code",
   "execution_count": 32,
   "metadata": {
    "scrolled": true
   },
   "outputs": [
    {
     "name": "stdout",
     "output_type": "stream",
     "text": [
      "INFO:tensorflow:Calling model_fn.\n",
      "INFO:tensorflow:Done calling model_fn.\n",
      "INFO:tensorflow:Create CheckpointSaverHook.\n",
      "INFO:tensorflow:Graph was finalized.\n",
      "INFO:tensorflow:Restoring parameters from /data2/rnn/logs/rnn17/model.ckpt-11000\n",
      "INFO:tensorflow:Running local_init_op.\n",
      "INFO:tensorflow:Done running local_init_op.\n",
      "INFO:tensorflow:Saving checkpoints for 11001 into /data2/rnn/logs/rnn17/model.ckpt.\n",
      "INFO:tensorflow:loss = 0.20140392, step = 11001\n",
      "INFO:tensorflow:global_step/sec: 11.7813\n",
      "INFO:tensorflow:loss = 0.16361773, step = 11101 (8.489 sec)\n",
      "INFO:tensorflow:global_step/sec: 11.9198\n",
      "INFO:tensorflow:loss = 0.16313234, step = 11201 (8.390 sec)\n",
      "INFO:tensorflow:global_step/sec: 12.0868\n",
      "INFO:tensorflow:loss = 0.13259004, step = 11301 (8.273 sec)\n",
      "INFO:tensorflow:global_step/sec: 11.9493\n",
      "INFO:tensorflow:loss = 0.15648769, step = 11401 (8.369 sec)\n",
      "INFO:tensorflow:global_step/sec: 12.0017\n",
      "INFO:tensorflow:loss = 0.16520962, step = 11501 (8.332 sec)\n",
      "INFO:tensorflow:global_step/sec: 11.8119\n",
      "INFO:tensorflow:loss = 0.11597761, step = 11601 (8.467 sec)\n",
      "INFO:tensorflow:global_step/sec: 11.9816\n",
      "INFO:tensorflow:loss = 0.20630866, step = 11701 (8.346 sec)\n",
      "INFO:tensorflow:global_step/sec: 11.8838\n",
      "INFO:tensorflow:loss = 0.14508486, step = 11801 (8.414 sec)\n",
      "INFO:tensorflow:global_step/sec: 11.9666\n",
      "INFO:tensorflow:loss = 0.16099009, step = 11901 (8.358 sec)\n",
      "INFO:tensorflow:global_step/sec: 11.9643\n",
      "INFO:tensorflow:loss = 0.12735197, step = 12001 (8.357 sec)\n",
      "INFO:tensorflow:global_step/sec: 11.9701\n",
      "INFO:tensorflow:loss = 0.17027211, step = 12101 (8.354 sec)\n",
      "INFO:tensorflow:global_step/sec: 11.9702\n",
      "INFO:tensorflow:loss = 0.14799279, step = 12201 (8.354 sec)\n",
      "INFO:tensorflow:global_step/sec: 11.9517\n",
      "INFO:tensorflow:loss = 0.13558656, step = 12301 (8.368 sec)\n",
      "INFO:tensorflow:global_step/sec: 11.9709\n",
      "INFO:tensorflow:loss = 0.14147831, step = 12401 (8.353 sec)\n",
      "INFO:tensorflow:global_step/sec: 11.9492\n",
      "INFO:tensorflow:loss = 0.17259781, step = 12501 (8.369 sec)\n",
      "INFO:tensorflow:global_step/sec: 12.005\n",
      "INFO:tensorflow:loss = 0.11630139, step = 12601 (8.330 sec)\n",
      "INFO:tensorflow:global_step/sec: 12.0857\n",
      "INFO:tensorflow:loss = 0.16201884, step = 12701 (8.274 sec)\n",
      "INFO:tensorflow:global_step/sec: 11.9818\n",
      "INFO:tensorflow:loss = 0.13371839, step = 12801 (8.346 sec)\n",
      "INFO:tensorflow:global_step/sec: 12.039\n",
      "INFO:tensorflow:loss = 0.16451538, step = 12901 (8.306 sec)\n",
      "INFO:tensorflow:global_step/sec: 11.987\n",
      "INFO:tensorflow:loss = 0.11057471, step = 13001 (8.343 sec)\n",
      "INFO:tensorflow:global_step/sec: 11.9377\n",
      "INFO:tensorflow:loss = 0.15238073, step = 13101 (8.377 sec)\n",
      "INFO:tensorflow:global_step/sec: 11.9102\n",
      "INFO:tensorflow:loss = 0.107228234, step = 13201 (8.396 sec)\n",
      "INFO:tensorflow:global_step/sec: 11.8473\n",
      "INFO:tensorflow:loss = 0.13980593, step = 13301 (8.441 sec)\n",
      "INFO:tensorflow:global_step/sec: 11.9851\n",
      "INFO:tensorflow:loss = 0.16304392, step = 13401 (8.343 sec)\n",
      "INFO:tensorflow:global_step/sec: 11.8957\n",
      "INFO:tensorflow:loss = 0.14758538, step = 13501 (8.407 sec)\n",
      "INFO:tensorflow:global_step/sec: 11.973\n",
      "INFO:tensorflow:loss = 0.14153248, step = 13601 (8.352 sec)\n",
      "INFO:tensorflow:global_step/sec: 12.0348\n",
      "INFO:tensorflow:loss = 0.13027847, step = 13701 (8.309 sec)\n",
      "INFO:tensorflow:global_step/sec: 12.0119\n",
      "INFO:tensorflow:loss = 0.14477265, step = 13801 (8.325 sec)\n",
      "INFO:tensorflow:global_step/sec: 11.977\n",
      "INFO:tensorflow:loss = 0.15500477, step = 13901 (8.349 sec)\n",
      "INFO:tensorflow:global_step/sec: 11.9637\n",
      "INFO:tensorflow:loss = 0.14909296, step = 14001 (8.359 sec)\n",
      "INFO:tensorflow:global_step/sec: 12.0546\n",
      "INFO:tensorflow:loss = 0.15198267, step = 14101 (8.295 sec)\n",
      "INFO:tensorflow:global_step/sec: 11.9041\n",
      "INFO:tensorflow:loss = 0.1594509, step = 14201 (8.401 sec)\n",
      "INFO:tensorflow:global_step/sec: 11.9194\n",
      "INFO:tensorflow:loss = 0.13118565, step = 14301 (8.390 sec)\n",
      "INFO:tensorflow:global_step/sec: 11.9243\n",
      "INFO:tensorflow:loss = 0.13036214, step = 14401 (8.386 sec)\n",
      "INFO:tensorflow:global_step/sec: 12.1008\n",
      "INFO:tensorflow:loss = 0.15928993, step = 14501 (8.264 sec)\n",
      "INFO:tensorflow:global_step/sec: 11.9583\n",
      "INFO:tensorflow:loss = 0.15358019, step = 14601 (8.363 sec)\n",
      "INFO:tensorflow:global_step/sec: 12.1002\n",
      "INFO:tensorflow:loss = 0.12529099, step = 14701 (8.264 sec)\n",
      "INFO:tensorflow:global_step/sec: 11.8981\n",
      "INFO:tensorflow:loss = 0.11969115, step = 14801 (8.405 sec)\n",
      "INFO:tensorflow:global_step/sec: 11.9046\n",
      "INFO:tensorflow:loss = 0.1495262, step = 14901 (8.400 sec)\n",
      "INFO:tensorflow:global_step/sec: 12.0246\n",
      "INFO:tensorflow:loss = 0.1390018, step = 15001 (8.317 sec)\n",
      "INFO:tensorflow:global_step/sec: 12.0171\n",
      "INFO:tensorflow:loss = 0.13090011, step = 15101 (8.321 sec)\n",
      "INFO:tensorflow:global_step/sec: 12.0779\n",
      "INFO:tensorflow:loss = 0.11663209, step = 15201 (8.279 sec)\n",
      "INFO:tensorflow:global_step/sec: 11.9581\n",
      "INFO:tensorflow:loss = 0.13269058, step = 15301 (8.363 sec)\n",
      "INFO:tensorflow:global_step/sec: 11.893\n",
      "INFO:tensorflow:loss = 0.1638583, step = 15401 (8.408 sec)\n",
      "INFO:tensorflow:global_step/sec: 11.8525\n",
      "INFO:tensorflow:loss = 0.15048179, step = 15501 (8.437 sec)\n",
      "INFO:tensorflow:global_step/sec: 11.9212\n",
      "INFO:tensorflow:loss = 0.13911282, step = 15601 (8.388 sec)\n",
      "INFO:tensorflow:global_step/sec: 12.0422\n",
      "INFO:tensorflow:loss = 0.13048023, step = 15701 (8.304 sec)\n",
      "INFO:tensorflow:global_step/sec: 11.9076\n",
      "INFO:tensorflow:loss = 0.14087811, step = 15801 (8.398 sec)\n",
      "INFO:tensorflow:global_step/sec: 11.9177\n",
      "INFO:tensorflow:loss = 0.1451404, step = 15901 (8.390 sec)\n",
      "INFO:tensorflow:global_step/sec: 11.988\n",
      "INFO:tensorflow:loss = 0.14142032, step = 16001 (8.342 sec)\n",
      "INFO:tensorflow:global_step/sec: 11.9702\n",
      "INFO:tensorflow:loss = 0.14937405, step = 16101 (8.354 sec)\n",
      "INFO:tensorflow:global_step/sec: 12.0544\n",
      "INFO:tensorflow:loss = 0.15242022, step = 16201 (8.295 sec)\n",
      "INFO:tensorflow:global_step/sec: 11.9269\n",
      "INFO:tensorflow:loss = 0.15707618, step = 16301 (8.384 sec)\n",
      "INFO:tensorflow:global_step/sec: 12.0053\n",
      "INFO:tensorflow:loss = 0.123041555, step = 16401 (8.331 sec)\n",
      "INFO:tensorflow:global_step/sec: 11.9805\n",
      "INFO:tensorflow:loss = 0.14287329, step = 16501 (8.347 sec)\n",
      "INFO:tensorflow:global_step/sec: 11.9412\n",
      "INFO:tensorflow:loss = 0.13261977, step = 16601 (8.374 sec)\n",
      "INFO:tensorflow:global_step/sec: 12.0589\n",
      "INFO:tensorflow:loss = 0.12040633, step = 16701 (8.293 sec)\n",
      "INFO:tensorflow:global_step/sec: 11.9123\n",
      "INFO:tensorflow:loss = 0.123360865, step = 16801 (8.395 sec)\n",
      "INFO:tensorflow:global_step/sec: 12.0109\n",
      "INFO:tensorflow:loss = 0.14013088, step = 16901 (8.326 sec)\n",
      "INFO:tensorflow:global_step/sec: 11.9606\n",
      "INFO:tensorflow:loss = 0.15846656, step = 17001 (8.361 sec)\n",
      "INFO:tensorflow:global_step/sec: 11.9019\n",
      "INFO:tensorflow:loss = 0.15161937, step = 17101 (8.401 sec)\n",
      "INFO:tensorflow:global_step/sec: 12.0243\n",
      "INFO:tensorflow:loss = 0.12691717, step = 17201 (8.316 sec)\n",
      "INFO:tensorflow:global_step/sec: 11.9135\n",
      "INFO:tensorflow:loss = 0.12391571, step = 17301 (8.395 sec)\n",
      "INFO:tensorflow:global_step/sec: 11.929\n",
      "INFO:tensorflow:loss = 0.16172403, step = 17401 (8.383 sec)\n",
      "INFO:tensorflow:global_step/sec: 11.9908\n",
      "INFO:tensorflow:loss = 0.17937428, step = 17501 (8.340 sec)\n",
      "INFO:tensorflow:global_step/sec: 12.1248\n",
      "INFO:tensorflow:loss = 0.1318904, step = 17601 (8.248 sec)\n",
      "INFO:tensorflow:global_step/sec: 12.0255\n",
      "INFO:tensorflow:loss = 0.1426931, step = 17701 (8.315 sec)\n",
      "INFO:tensorflow:global_step/sec: 12.0125\n",
      "INFO:tensorflow:loss = 0.15067226, step = 17801 (8.325 sec)\n",
      "INFO:tensorflow:global_step/sec: 12.0087\n",
      "INFO:tensorflow:loss = 0.10944268, step = 17901 (8.327 sec)\n",
      "INFO:tensorflow:global_step/sec: 11.9945\n",
      "INFO:tensorflow:loss = 0.12045671, step = 18001 (8.338 sec)\n",
      "INFO:tensorflow:global_step/sec: 11.9958\n",
      "INFO:tensorflow:loss = 0.11666265, step = 18101 (8.336 sec)\n",
      "INFO:tensorflow:Saving checkpoints for 18174 into /data2/rnn/logs/rnn17/model.ckpt.\n",
      "INFO:tensorflow:global_step/sec: 11.167\n",
      "INFO:tensorflow:loss = 0.10530196, step = 18201 (8.955 sec)\n",
      "INFO:tensorflow:global_step/sec: 12.0434\n",
      "INFO:tensorflow:loss = 0.13407308, step = 18301 (8.303 sec)\n",
      "INFO:tensorflow:global_step/sec: 12.0273\n",
      "INFO:tensorflow:loss = 0.13430296, step = 18401 (8.315 sec)\n",
      "INFO:tensorflow:global_step/sec: 12.0444\n",
      "INFO:tensorflow:loss = 0.13975978, step = 18501 (8.302 sec)\n",
      "INFO:tensorflow:global_step/sec: 12.0301\n",
      "INFO:tensorflow:loss = 0.12674388, step = 18601 (8.313 sec)\n"
     ]
    },
    {
     "name": "stdout",
     "output_type": "stream",
     "text": [
      "INFO:tensorflow:global_step/sec: 12.0467\n",
      "INFO:tensorflow:loss = 0.1276552, step = 18701 (8.301 sec)\n",
      "INFO:tensorflow:global_step/sec: 11.9991\n",
      "INFO:tensorflow:loss = 0.1352369, step = 18801 (8.334 sec)\n",
      "INFO:tensorflow:global_step/sec: 11.9074\n",
      "INFO:tensorflow:loss = 0.1270154, step = 18901 (8.398 sec)\n",
      "INFO:tensorflow:global_step/sec: 11.9624\n",
      "INFO:tensorflow:loss = 0.13144955, step = 19001 (8.359 sec)\n",
      "INFO:tensorflow:global_step/sec: 12.0298\n",
      "INFO:tensorflow:loss = 0.15349858, step = 19101 (8.313 sec)\n",
      "INFO:tensorflow:global_step/sec: 11.9404\n",
      "INFO:tensorflow:loss = 0.15690878, step = 19201 (8.375 sec)\n",
      "INFO:tensorflow:global_step/sec: 11.9039\n",
      "INFO:tensorflow:loss = 0.13750733, step = 19301 (8.401 sec)\n",
      "INFO:tensorflow:global_step/sec: 11.9757\n",
      "INFO:tensorflow:loss = 0.14620163, step = 19401 (8.351 sec)\n",
      "INFO:tensorflow:global_step/sec: 11.9915\n",
      "INFO:tensorflow:loss = 0.12647144, step = 19501 (8.339 sec)\n",
      "INFO:tensorflow:global_step/sec: 12.0476\n",
      "INFO:tensorflow:loss = 0.12004439, step = 19601 (8.300 sec)\n",
      "INFO:tensorflow:global_step/sec: 12.0394\n",
      "INFO:tensorflow:loss = 0.12948073, step = 19701 (8.306 sec)\n",
      "INFO:tensorflow:global_step/sec: 11.9931\n",
      "INFO:tensorflow:loss = 0.13607854, step = 19801 (8.338 sec)\n",
      "INFO:tensorflow:global_step/sec: 12.0289\n",
      "INFO:tensorflow:loss = 0.13567555, step = 19901 (8.313 sec)\n",
      "INFO:tensorflow:global_step/sec: 11.9687\n",
      "INFO:tensorflow:loss = 0.1289917, step = 20001 (8.355 sec)\n",
      "INFO:tensorflow:global_step/sec: 11.9672\n",
      "INFO:tensorflow:loss = 0.1279544, step = 20101 (8.356 sec)\n",
      "INFO:tensorflow:global_step/sec: 12.0133\n",
      "INFO:tensorflow:loss = 0.12975201, step = 20201 (8.325 sec)\n",
      "INFO:tensorflow:global_step/sec: 12.1048\n",
      "INFO:tensorflow:loss = 0.15972343, step = 20301 (8.261 sec)\n",
      "INFO:tensorflow:global_step/sec: 11.8548\n",
      "INFO:tensorflow:loss = 0.13609555, step = 20401 (8.435 sec)\n",
      "INFO:tensorflow:global_step/sec: 11.933\n",
      "INFO:tensorflow:loss = 0.10638475, step = 20501 (8.380 sec)\n",
      "INFO:tensorflow:global_step/sec: 11.9795\n",
      "INFO:tensorflow:loss = 0.15229443, step = 20601 (8.347 sec)\n",
      "INFO:tensorflow:global_step/sec: 12.0163\n",
      "INFO:tensorflow:loss = 0.1631546, step = 20701 (8.322 sec)\n",
      "INFO:tensorflow:global_step/sec: 11.9035\n",
      "INFO:tensorflow:loss = 0.12834385, step = 20801 (8.401 sec)\n",
      "INFO:tensorflow:global_step/sec: 11.8354\n",
      "INFO:tensorflow:loss = 0.122016, step = 20901 (8.449 sec)\n",
      "INFO:tensorflow:Saving checkpoints for 21000 into /data2/rnn/logs/rnn17/model.ckpt.\n",
      "INFO:tensorflow:Loss for final step: 0.12324273.\n"
     ]
    },
    {
     "data": {
      "text/plain": [
       "<__main__.RNNClassifier at 0x7f4b98066780>"
      ]
     },
     "execution_count": 32,
     "metadata": {},
     "output_type": "execute_result"
    }
   ],
   "source": [
    "model.train(input_fn_train, steps=10000)"
   ]
  },
  {
   "cell_type": "code",
   "execution_count": 40,
   "metadata": {},
   "outputs": [],
   "source": [
    "preds = model.predict(input_fn_test)"
   ]
  },
  {
   "cell_type": "code",
   "execution_count": 41,
   "metadata": {},
   "outputs": [
    {
     "name": "stdout",
     "output_type": "stream",
     "text": [
      "INFO:tensorflow:Calling model_fn.\n",
      "INFO:tensorflow:Done calling model_fn.\n",
      "INFO:tensorflow:Graph was finalized.\n",
      "INFO:tensorflow:Restoring parameters from /data2/rnn/logs/rnn17/model.ckpt-21000\n",
      "INFO:tensorflow:Running local_init_op.\n",
      "INFO:tensorflow:Done running local_init_op.\n"
     ]
    }
   ],
   "source": [
    "all_prob = []\n",
    "for i,r in enumerate(preds):\n",
    "    all_prob.append(r['prob'])"
   ]
  },
  {
   "cell_type": "code",
   "execution_count": 42,
   "metadata": {},
   "outputs": [],
   "source": [
    "all_labs = data_table['secure_label'][randomized_inds_test[:len(all_prob)]]"
   ]
  },
  {
   "cell_type": "code",
   "execution_count": 43,
   "metadata": {},
   "outputs": [],
   "source": [
    "from sklearn.metrics import roc_curve"
   ]
  },
  {
   "cell_type": "code",
   "execution_count": 44,
   "metadata": {},
   "outputs": [],
   "source": [
    "fpr2, tpr2, thr2 = roc_curve(all_labs, all_prob)\n"
   ]
  },
  {
   "cell_type": "code",
   "execution_count": 45,
   "metadata": {},
   "outputs": [
    {
     "name": "stdout",
     "output_type": "stream",
     "text": [
      "INFO:tensorflow:Calling model_fn.\n",
      "INFO:tensorflow:Done calling model_fn.\n",
      "INFO:tensorflow:Graph was finalized.\n",
      "INFO:tensorflow:Restoring parameters from /data2/rnn/logs/rnn17/model.ckpt-21000\n",
      "INFO:tensorflow:Running local_init_op.\n",
      "INFO:tensorflow:Done running local_init_op.\n"
     ]
    }
   ],
   "source": [
    "preds = model.predict(input_fn_train_test)\n",
    "all_prob = []\n",
    "for i,r in enumerate(preds):\n",
    "    all_prob.append(r['prob'])\n",
    "all_labs = data_table['secure_label'][randomized_inds_train[:len(all_prob)]]\n",
    "fpr, tpr, thr = roc_curve(all_labs, all_prob)"
   ]
  },
  {
   "cell_type": "code",
   "execution_count": 46,
   "metadata": {},
   "outputs": [
    {
     "name": "stderr",
     "output_type": "stream",
     "text": [
      "/usr/lib/python3.6/site-packages/matplotlib/cbook/deprecation.py:107: MatplotlibDeprecationWarning: Passing one of 'on', 'true', 'off', 'false' as a boolean is deprecated; use an actual boolean (True/False) instead.\n",
      "  warnings.warn(message, mplDeprecation, stacklevel=1)\n"
     ]
    },
    {
     "data": {
      "text/plain": [
       "<matplotlib.lines.Line2D at 0x7f4852eac4a8>"
      ]
     },
     "execution_count": 46,
     "metadata": {},
     "output_type": "execute_result"
    },
    {
     "data": {
      "image/png": "[encoded data removed]",
      "text/plain": [
       "<Figure size 432x288 with 1 Axes>"
      ]
     },
     "metadata": {},
     "output_type": "display_data"
    }
   ],
   "source": [
    "plot(fpr2, tpr2)\n",
    "plot(fpr, tpr)\n",
    "grid('on')\n",
    "xscale('log')\n",
    "axvline(0.0043)"
   ]
  },
  {
   "cell_type": "code",
   "execution_count": 25,
   "metadata": {},
   "outputs": [
    {
     "name": "stderr",
     "output_type": "stream",
     "text": [
      "/usr/lib/python3.6/site-packages/matplotlib/cbook/deprecation.py:107: MatplotlibDeprecationWarning: Passing one of 'on', 'true', 'off', 'false' as a boolean is deprecated; use an actual boolean (True/False) instead.\n",
      "  warnings.warn(message, mplDeprecation, stacklevel=1)\n"
     ]
    },
    {
     "data": {
      "text/plain": [
       "<matplotlib.lines.Line2D at 0x7f88181a9d30>"
      ]
     },
     "execution_count": 25,
     "metadata": {},
     "output_type": "execute_result"
    },
    {
     "data": {
      "image/png": "[encoded data removed]",
      "text/plain": [
       "<Figure size 432x288 with 1 Axes>"
      ]
     },
     "metadata": {},
     "output_type": "display_data"
    }
   ],
   "source": [
    "plot(fpr2, tpr2)\n",
    "plot(fpr, tpr)\n",
    "grid('on')\n",
    "xscale('log')\n",
    "axvline(0.0043)"
   ]
  },
  {
   "cell_type": "code",
   "execution_count": 16,
   "metadata": {},
   "outputs": [
    {
     "name": "stderr",
     "output_type": "stream",
     "text": [
      "/usr/lib/python3.6/site-packages/matplotlib/cbook/deprecation.py:107: MatplotlibDeprecationWarning: Passing one of 'on', 'true', 'off', 'false' as a boolean is deprecated; use an actual boolean (True/False) instead.\n",
      "  warnings.warn(message, mplDeprecation, stacklevel=1)\n"
     ]
    },
    {
     "data": {
      "text/plain": [
       "<matplotlib.lines.Line2D at 0x7f882bf77390>"
      ]
     },
     "execution_count": 16,
     "metadata": {},
     "output_type": "execute_result"
    },
    {
     "data": {
      "image/png": "[encoded data removed]",
      "text/plain": [
       "<Figure size 432x288 with 1 Axes>"
      ]
     },
     "metadata": {},
     "output_type": "display_data"
    }
   ],
   "source": [
    "plot(fpr2, tpr2)\n",
    "plot(fpr, tpr)\n",
    "grid('on')\n",
    "xscale('log')\n",
    "axvline(0.0043)"
   ]
  },
  {
   "cell_type": "code",
   "execution_count": 17,
   "metadata": {},
   "outputs": [
    {
     "name": "stderr",
     "output_type": "stream",
     "text": [
      "/usr/lib/python3.6/site-packages/matplotlib/cbook/deprecation.py:107: MatplotlibDeprecationWarning: Passing one of 'on', 'true', 'off', 'false' as a boolean is deprecated; use an actual boolean (True/False) instead.\n",
      "  warnings.warn(message, mplDeprecation, stacklevel=1)\n"
     ]
    },
    {
     "data": {
      "text/plain": [
       "<matplotlib.lines.Line2D at 0x7f20ae9a4780>"
      ]
     },
     "execution_count": 17,
     "metadata": {},
     "output_type": "execute_result"
    },
    {
     "data": {
      "image/png": "[encoded data removed]",
      "text/plain": [
       "<Figure size 432x288 with 1 Axes>"
      ]
     },
     "metadata": {},
     "output_type": "display_data"
    }
   ],
   "source": [
    "plot(fpr2, tpr2)\n",
    "plot(fpr, tpr)\n",
    "grid('on')\n",
    "xscale('log')\n",
    "axvline(0.0043)"
   ]
  },
  {
   "cell_type": "code",
   "execution_count": 52,
   "metadata": {},
   "outputs": [
    {
     "name": "stderr",
     "output_type": "stream",
     "text": [
      "/usr/lib/python3.6/site-packages/matplotlib/cbook/deprecation.py:107: MatplotlibDeprecationWarning: Passing one of 'on', 'true', 'off', 'false' as a boolean is deprecated; use an actual boolean (True/False) instead.\n",
      "  warnings.warn(message, mplDeprecation, stacklevel=1)\n"
     ]
    },
    {
     "data": {
      "text/plain": [
       "<matplotlib.lines.Line2D at 0x7fb63493d860>"
      ]
     },
     "execution_count": 52,
     "metadata": {},
     "output_type": "execute_result"
    },
    {
     "data": {
      "image/png": "[encoded data removed]",
      "text/plain": [
       "<Figure size 432x288 with 1 Axes>"
      ]
     },
     "metadata": {},
     "output_type": "display_data"
    }
   ],
   "source": [
    "plot(fpr2, tpr2)\n",
    "plot(fpr, tpr)\n",
    "grid('on')\n",
    "xscale('log')\n",
    "axvline(0.0043)"
   ]
  },
  {
   "cell_type": "code",
   "execution_count": 30,
   "metadata": {},
   "outputs": [
    {
     "name": "stderr",
     "output_type": "stream",
     "text": [
      "/usr/lib/python3.6/site-packages/matplotlib/cbook/deprecation.py:107: MatplotlibDeprecationWarning: Passing one of 'on', 'true', 'off', 'false' as a boolean is deprecated; use an actual boolean (True/False) instead.\n",
      "  warnings.warn(message, mplDeprecation, stacklevel=1)\n"
     ]
    },
    {
     "data": {
      "text/plain": [
       "<matplotlib.lines.Line2D at 0x7f5712cedcf8>"
      ]
     },
     "execution_count": 30,
     "metadata": {},
     "output_type": "execute_result"
    },
    {
     "data": {
      "image/png": "[encoded data removed]",
      "text/plain": [
       "<Figure size 432x288 with 1 Axes>"
      ]
     },
     "metadata": {},
     "output_type": "display_data"
    }
   ],
   "source": [
    "plot(fpr2, tpr2)\n",
    "plot(fpr, tpr)\n",
    "grid('on')\n",
    "xscale('log')\n",
    "axvline(0.0043)"
   ]
  },
  {
   "cell_type": "code",
   "execution_count": 20,
   "metadata": {},
   "outputs": [
    {
     "name": "stderr",
     "output_type": "stream",
     "text": [
      "/usr/lib/python3.6/site-packages/matplotlib/cbook/deprecation.py:107: MatplotlibDeprecationWarning: Passing one of 'on', 'true', 'off', 'false' as a boolean is deprecated; use an actual boolean (True/False) instead.\n",
      "  warnings.warn(message, mplDeprecation, stacklevel=1)\n"
     ]
    },
    {
     "data": {
      "image/png": "[encoded data removed]",
      "text/plain": [
       "<Figure size 432x288 with 1 Axes>"
      ]
     },
     "metadata": {},
     "output_type": "display_data"
    }
   ],
   "source": [
    "plot(fpr2, tpr2)\n",
    "plot(fpr, tpr)\n",
    "grid('on')\n",
    "xscale('log')"
   ]
  },
  {
   "cell_type": "code",
   "execution_count": 24,
   "metadata": {},
   "outputs": [
    {
     "name": "stderr",
     "output_type": "stream",
     "text": [
      "/usr/lib/python3.6/site-packages/matplotlib/cbook/deprecation.py:107: MatplotlibDeprecationWarning: Passing one of 'on', 'true', 'off', 'false' as a boolean is deprecated; use an actual boolean (True/False) instead.\n",
      "  warnings.warn(message, mplDeprecation, stacklevel=1)\n"
     ]
    },
    {
     "data": {
      "image/png": "[encoded data removed]",
      "text/plain": [
       "<Figure size 432x288 with 1 Axes>"
      ]
     },
     "metadata": {},
     "output_type": "display_data"
    }
   ],
   "source": [
    "plot(fpr2, tpr2)\n",
    "plot(fpr, tpr)\n",
    "grid('on')\n",
    "xscale('log')"
   ]
  },
  {
   "cell_type": "code",
   "execution_count": 15,
   "metadata": {},
   "outputs": [
    {
     "name": "stderr",
     "output_type": "stream",
     "text": [
      "/usr/lib/python3.6/site-packages/matplotlib/cbook/deprecation.py:107: MatplotlibDeprecationWarning: Passing one of 'on', 'true', 'off', 'false' as a boolean is deprecated; use an actual boolean (True/False) instead.\n",
      "  warnings.warn(message, mplDeprecation, stacklevel=1)\n"
     ]
    },
    {
     "data": {
      "image/png": "[encoded data removed]",
      "text/plain": [
       "<Figure size 432x288 with 1 Axes>"
      ]
     },
     "metadata": {},
     "output_type": "display_data"
    }
   ],
   "source": [
    "plot(fpr2, tpr2)\n",
    "plot(fpr, tpr)\n",
    "grid('on')\n",
    "xscale('log')"
   ]
  },
  {
   "cell_type": "code",
   "execution_count": 31,
   "metadata": {},
   "outputs": [
    {
     "name": "stderr",
     "output_type": "stream",
     "text": [
      "/usr/lib/python3.6/site-packages/matplotlib/cbook/deprecation.py:107: MatplotlibDeprecationWarning: Passing one of 'on', 'true', 'off', 'false' as a boolean is deprecated; use an actual boolean (True/False) instead.\n",
      "  warnings.warn(message, mplDeprecation, stacklevel=1)\n"
     ]
    },
    {
     "data": {
      "image/png": "[encoded data removed]",
      "text/plain": [
       "<Figure size 432x288 with 1 Axes>"
      ]
     },
     "metadata": {},
     "output_type": "display_data"
    }
   ],
   "source": [
    "plot(fpr2, tpr2)\n",
    "plot(fpr, tpr)\n",
    "grid('on')\n",
    "xscale('log')"
   ]
  },
  {
   "cell_type": "code",
   "execution_count": 27,
   "metadata": {},
   "outputs": [
    {
     "data": {
      "text/plain": [
       "(array([ 1261,  1365,  1637,  1695,  1863,  1999,  2296,  3219,  3342,\n",
       "         3387,  3434,  3476,  3499,  3689,  3739,  3776,  3975,  4014,\n",
       "         4046,  4372,  4499,  4619,  4785,  5151,  5238,  5274,  5490,\n",
       "         5671,  5712,  5726,  6483,  7567,  7784,  8553,  8985,  9111,\n",
       "         9516,  9856,  9860, 10458, 10573, 10617, 10682, 10832, 10942,\n",
       "        10979, 11078, 11386, 11524, 11905, 12102, 12132, 12271, 12316,\n",
       "        12354, 12655, 12669, 13873, 15506, 16477, 16537, 16949, 17038,\n",
       "        17213, 17582, 17660, 17748, 17816, 18038, 18336, 18496, 18512,\n",
       "        18604, 18746, 18790, 18843, 18977, 19611, 19864, 20258, 20453,\n",
       "        20494, 20676, 20680, 21628, 21656, 22270, 22356, 22390, 22978,\n",
       "        23052, 23359, 23418, 23461, 23503, 23560, 23588, 23613, 23755,\n",
       "        23979, 23990, 24105, 24150, 24178, 24304, 24322, 24332, 24604,\n",
       "        25073, 26195, 26342, 26545, 26757, 26911, 27145, 29051, 29218,\n",
       "        29408, 29482, 29621, 29690, 29896, 30003, 30085, 30107, 30496,\n",
       "        30586, 30698, 31135, 31503, 31793, 32841, 33299, 33506, 34426,\n",
       "        34764, 35737, 35820, 35901, 36217, 36256, 36356, 36426, 36534,\n",
       "        37014, 37264, 37266, 37560, 37592, 38071, 38143, 38449, 39378,\n",
       "        40065, 40926, 40927, 41696, 41842, 41899, 41929, 41978, 42108,\n",
       "        42189, 42262, 42348, 42427, 42431, 42606, 42614, 42707, 42811,\n",
       "        42859, 43012, 43150, 43204, 43206, 43240, 43321, 43323, 43477,\n",
       "        43545, 43548, 43569, 43726, 43756, 43885, 43918, 44117, 46103,\n",
       "        46614, 47910, 47987, 48038, 48065, 48100, 48333, 48663, 49339,\n",
       "        49358, 49365, 49450, 49509, 49525, 49562, 49676, 49765, 50015,\n",
       "        50094, 50314, 50378, 50420, 50423, 52469, 52688, 52966, 53525,\n",
       "        53552, 54457, 54514, 54586, 54658, 54711, 54760, 54804, 54853,\n",
       "        55146, 55171, 55213, 55260, 55398, 55582, 55630, 55777, 55846,\n",
       "        55908, 55919, 56061, 56183, 56331, 56688, 56894, 57639, 57965,\n",
       "        58111, 58140, 58265, 58618, 58775, 58845, 59164, 59415, 60790,\n",
       "        60822, 60956, 61180, 61365, 61436, 61487, 61568, 61579, 61661,\n",
       "        61737, 62114, 62162, 62226, 62569, 62785, 62808, 63113, 63121,\n",
       "        64687, 64923, 65064, 65395, 65621, 65787, 66097, 66148, 66439,\n",
       "        66841, 67539, 67665, 67683, 67718, 67728, 67942, 67987, 68244,\n",
       "        68409, 68465, 68588, 68643, 68787, 69285, 69715, 70414, 71123,\n",
       "        71274, 71700, 71714, 71798, 71812, 71819, 73832, 73919, 73945,\n",
       "        74115, 74294, 74505, 74791, 75098, 75113, 75304, 75311, 75465,\n",
       "        75471, 75477, 76059, 76222, 76250, 76293]),)"
      ]
     },
     "execution_count": 27,
     "metadata": {},
     "output_type": "execute_result"
    }
   ],
   "source": [
    "where(data_table['secure_label'] != data_table['label'])"
   ]
  },
  {
   "cell_type": "code",
   "execution_count": 14,
   "metadata": {},
   "outputs": [
    {
     "name": "stderr",
     "output_type": "stream",
     "text": [
      "/usr/lib/python3.6/site-packages/matplotlib/cbook/deprecation.py:107: MatplotlibDeprecationWarning: Passing one of 'on', 'true', 'off', 'false' as a boolean is deprecated; use an actual boolean (True/False) instead.\n",
      "  warnings.warn(message, mplDeprecation, stacklevel=1)\n"
     ]
    },
    {
     "data": {
      "image/png": "[encoded data removed]",
      "text/plain": [
       "<Figure size 432x288 with 1 Axes>"
      ]
     },
     "metadata": {},
     "output_type": "display_data"
    }
   ],
   "source": [
    "plot(fpr2, tpr2)\n",
    "grid('on')\n",
    "xscale('log')"
   ]
  },
  {
   "cell_type": "code",
   "execution_count": 24,
   "metadata": {},
   "outputs": [
    {
     "name": "stderr",
     "output_type": "stream",
     "text": [
      "/usr/lib/python3.6/site-packages/matplotlib/cbook/deprecation.py:107: MatplotlibDeprecationWarning: Passing one of 'on', 'true', 'off', 'false' as a boolean is deprecated; use an actual boolean (True/False) instead.\n",
      "  warnings.warn(message, mplDeprecation, stacklevel=1)\n"
     ]
    },
    {
     "data": {
      "image/png": "[encoded data removed]",
      "text/plain": [
       "<Figure size 432x288 with 1 Axes>"
      ]
     },
     "metadata": {},
     "output_type": "display_data"
    }
   ],
   "source": [
    "plot(fpr, tpr)\n",
    "grid('on')\n",
    "xscale('log')"
   ]
  },
  {
   "cell_type": "code",
   "execution_count": 28,
   "metadata": {},
   "outputs": [
    {
     "data": {
      "text/plain": [
       "{'last_rnn': array([-1.94191426e-01, -4.99837905e-01,  2.63057470e-01, -1.98005363e-01,\n",
       "         4.22242403e-01, -4.32273120e-01,  4.11631465e-01, -3.92210394e-01,\n",
       "        -1.86836034e-01, -3.21635529e-02, -1.24169730e-01,  2.85181820e-01,\n",
       "        -1.38052881e-01,  1.19904317e-01, -3.20221297e-02,  1.18764766e-01,\n",
       "        -3.56962860e-01,  2.70751297e-01, -2.68522620e-01,  3.86134356e-01,\n",
       "        -2.94964522e-01,  2.37663209e-01, -1.93848953e-01,  1.89124838e-01,\n",
       "        -4.02995795e-01, -2.96253741e-01,  1.03205837e-01, -2.34223053e-01,\n",
       "         2.98832446e-01,  2.68726975e-01,  1.54131368e-01,  1.74046010e-01,\n",
       "        -2.18293801e-01,  1.28403970e-03, -4.18276042e-02,  3.68121266e-01,\n",
       "        -2.33852476e-01,  1.25344843e-01,  2.23922521e-01,  4.48367864e-01,\n",
       "        -2.28569940e-01, -3.95894736e-01, -3.08292449e-01,  1.12075411e-01,\n",
       "        -3.42369288e-01, -3.29866141e-01, -3.03307503e-01,  3.55020761e-01,\n",
       "         1.34922564e-01,  5.79001009e-02, -3.76999110e-01, -2.22249269e-01,\n",
       "         3.17558557e-01, -2.10924238e-01,  3.08472160e-02,  3.32593083e-01,\n",
       "        -1.32923499e-01,  8.14659148e-02,  5.96358739e-02,  1.38055012e-01,\n",
       "        -3.28157693e-02, -2.75786698e-01,  1.38208233e-02, -3.16466570e-01,\n",
       "        -1.17263161e-01, -3.95086914e-01, -1.86183606e-03,  4.30102944e-01,\n",
       "        -9.31130797e-02, -5.20831585e-01, -1.20557211e-01, -3.74237955e-01,\n",
       "         1.85643703e-01, -1.03759952e-01, -3.58553618e-01, -1.39732182e-01,\n",
       "         3.97113115e-01, -1.84052478e-04,  1.77382082e-01, -5.11406809e-02,\n",
       "        -9.25614536e-02,  2.73293316e-01, -3.07802290e-01,  1.47590548e-01,\n",
       "        -1.22243248e-01, -9.50704738e-02, -1.04708381e-01, -4.44799252e-02,\n",
       "         9.55800489e-02, -4.03262347e-01,  6.97438642e-02, -3.51953954e-02,\n",
       "         2.66615152e-01, -2.64423251e-01,  2.95632426e-02,  1.30969375e-01,\n",
       "         2.98730433e-02, -2.00673312e-01, -5.13858438e-01,  4.67783734e-02,\n",
       "         1.42477036e-01, -1.38584882e-01, -1.16976671e-01, -6.99938759e-02,\n",
       "         4.54022974e-01,  3.19892436e-01, -1.91195384e-01,  2.52402335e-01,\n",
       "        -1.81944631e-02,  2.38792747e-01,  5.53510606e-01,  7.70139834e-03,\n",
       "         1.89445056e-02, -7.65898377e-02, -1.88297838e-01,  1.57879323e-01,\n",
       "        -4.68336642e-01,  4.77620304e-01,  4.44435537e-01, -3.27085316e-01,\n",
       "        -1.81405112e-01,  4.62460257e-02, -1.02090694e-01, -9.91542041e-02,\n",
       "         1.99281767e-01, -2.92202178e-02, -2.23784626e-01,  5.57471067e-03,\n",
       "        -6.32556528e-02,  1.20058723e-01, -3.99008125e-01, -1.73208982e-01,\n",
       "         1.45268276e-01,  5.73480017e-02, -1.10128649e-01, -6.94887787e-02,\n",
       "         1.06163315e-01, -3.74299027e-02,  4.73942995e-01,  1.40720293e-01,\n",
       "         8.24247375e-02, -3.19049180e-01, -3.82033944e-01, -8.33609179e-02,\n",
       "        -1.36558741e-01,  2.79510945e-01,  3.07893455e-01, -8.05330575e-02,\n",
       "        -3.00600976e-01,  1.59995496e-01, -3.43599528e-01,  2.91942134e-02,\n",
       "         3.58157195e-02,  1.24853484e-01,  4.91744012e-01, -5.01177609e-01,\n",
       "         2.72229433e-01,  2.52069831e-02, -2.25392014e-01, -1.24787027e-02,\n",
       "         6.04187930e-03,  3.20937604e-01, -1.53729826e-01, -1.35762632e-01,\n",
       "        -9.91769731e-02,  1.40039340e-01, -4.27672535e-01, -3.15283597e-01,\n",
       "        -7.08725397e-03,  3.79940063e-01,  1.90106913e-01, -5.24580061e-01,\n",
       "        -7.09408447e-02, -1.56685635e-01,  9.06280279e-02,  9.53939483e-02,\n",
       "        -4.98887300e-01,  3.10091615e-01,  3.58407646e-01, -1.33388534e-01,\n",
       "         1.67330459e-01,  4.64563608e-01,  2.99087428e-02,  7.12673888e-02,\n",
       "        -1.09212779e-01, -1.87306955e-01,  2.10066170e-01, -4.27265875e-02,\n",
       "        -3.22740614e-01, -2.14723691e-01,  3.51283401e-01, -4.80829567e-01,\n",
       "        -5.68488613e-02,  8.69776979e-02, -4.39026475e-01, -2.13294834e-01,\n",
       "         1.50175542e-01, -2.18318090e-01,  1.97349325e-01, -5.25585450e-02,\n",
       "         1.72443122e-01, -2.86956370e-01,  6.14993349e-02, -5.24551094e-01,\n",
       "        -2.94533581e-01, -4.96389866e-02, -7.60436133e-02,  1.20079972e-01,\n",
       "         3.97517085e-01, -9.52287465e-02, -4.67557795e-02,  4.44712676e-02,\n",
       "         2.21237913e-02,  1.51731893e-01,  1.98111162e-02, -3.32914740e-01,\n",
       "         3.82513821e-01, -1.75102070e-01,  3.25861275e-01,  6.74405769e-02,\n",
       "        -9.65056568e-02, -2.64762342e-01,  7.95750320e-02,  1.09394871e-01,\n",
       "        -3.01807344e-01, -2.42620111e-01,  1.77372470e-02, -3.86403464e-02,\n",
       "         1.44509479e-01, -2.59381443e-01, -2.24161372e-01,  2.28173435e-01,\n",
       "         1.16250971e-02, -4.12186533e-01,  3.57914299e-01, -5.48950911e-01,\n",
       "         2.32712790e-01,  1.12169400e-01,  3.45408022e-01, -5.73704503e-02,\n",
       "         2.28588104e-01, -4.05109137e-01, -1.15534313e-01, -2.25105762e-01,\n",
       "         1.28384277e-01, -3.67337465e-01, -1.35638773e-01, -2.95677513e-01,\n",
       "        -1.94329202e-01,  3.54839712e-01, -1.44503251e-01, -1.68279856e-01,\n",
       "        -4.77111861e-02, -1.68834955e-01, -8.18506777e-02, -1.30183235e-01],\n",
       "       dtype=float32),\n",
       " 'prob': 0.0028366,\n",
       " 'rnn': array([[-0.00846382, -0.01187223, -0.00692878, ...,  0.00491951,\n",
       "         -0.00688319, -0.00651078],\n",
       "        [-0.01826199, -0.0268908 , -0.01008348, ...,  0.00495686,\n",
       "         -0.01770941, -0.01008365],\n",
       "        [-0.01939487, -0.04767083, -0.00982943, ..., -0.00406514,\n",
       "         -0.03628549, -0.00656999],\n",
       "        ...,\n",
       "        [ 0.        ,  0.        ,  0.        , ...,  0.        ,\n",
       "          0.        ,  0.        ],\n",
       "        [ 0.        ,  0.        ,  0.        , ...,  0.        ,\n",
       "          0.        ,  0.        ],\n",
       "        [ 0.        ,  0.        ,  0.        , ...,  0.        ,\n",
       "          0.        ,  0.        ]], dtype=float32)}"
      ]
     },
     "execution_count": 28,
     "metadata": {},
     "output_type": "execute_result"
    }
   ],
   "source": [
    "res"
   ]
  },
  {
   "cell_type": "code",
   "execution_count": 21,
   "metadata": {},
   "outputs": [
    {
     "data": {
      "text/plain": [
       "<matplotlib.lines.Line2D at 0x7fd4984617f0>"
      ]
     },
     "execution_count": 21,
     "metadata": {},
     "output_type": "execute_result"
    },
    {
     "data": {
      "image/png": "[encoded data removed]",
      "text/plain": [
       "<Figure size 432x288 with 1 Axes>"
      ]
     },
     "metadata": {},
     "output_type": "display_data"
    }
   ],
   "source": [
    "plot(res['rnn'][:,6])\n",
    "axhline(res['last_rnn'][6])"
   ]
  },
  {
   "cell_type": "code",
   "execution_count": 12,
   "metadata": {},
   "outputs": [
    {
     "data": {
      "text/plain": [
       "{'last_rnn': array([ 0.12107959, -0.15827914, -0.09014755,  0.10190471,  0.1609632 ,\n",
       "         0.3389828 , -0.06957211, -0.03411179, -0.16409749, -0.17293255,\n",
       "        -0.01878208,  0.25724682, -0.28687295, -0.14520755, -0.01798124,\n",
       "         0.02188114, -0.07879843, -0.04261052,  0.14094077, -0.11801593,\n",
       "        -0.00566515, -0.14445475,  0.06198793, -0.05013452,  0.1293319 ,\n",
       "        -0.37139016, -0.08932515,  0.04438834, -0.0342633 , -0.34288883,\n",
       "        -0.11351605, -0.18533082,  0.0815624 ,  0.13243704,  0.16689084,\n",
       "         0.07021627,  0.06119774,  0.1738819 , -0.23234719,  0.2313295 ,\n",
       "         0.15466529, -0.04319582, -0.03892992,  0.18452412, -0.02355547,\n",
       "        -0.06378589, -0.21451302, -0.39488068, -0.14552817,  0.1296761 ,\n",
       "        -0.04741688, -0.06036036,  0.01831371,  0.01816276, -0.11241093,\n",
       "         0.28653342,  0.10860398,  0.0891033 , -0.11046083,  0.08070789,\n",
       "         0.26450062, -0.10058174, -0.0018898 ,  0.08117199, -0.07776216,\n",
       "        -0.04086457, -0.43399945,  0.03912506, -0.05880267,  0.37727532,\n",
       "        -0.07257083, -0.3026353 , -0.12922178,  0.0477919 ,  0.21689266,\n",
       "        -0.15059647, -0.02777571, -0.03055337, -0.07074088,  0.12557885,\n",
       "        -0.00906375, -0.06082153, -0.23784462,  0.12861492,  0.3051663 ,\n",
       "         0.02520615, -0.06260983, -0.01211563,  0.08389622, -0.32020944,\n",
       "         0.17762662, -0.01039261,  0.10101086,  0.00952793,  0.03616129,\n",
       "         0.48336092, -0.11293951, -0.02760643,  0.0815618 ,  0.1026309 ,\n",
       "         0.1333316 ,  0.07787641,  0.09397423,  0.00978791,  0.15655984,\n",
       "         0.30981603, -0.03142371, -0.1371111 ,  0.36808237,  0.59685624,\n",
       "         0.19469452, -0.06060047, -0.00141903, -0.08337775,  0.02330351,\n",
       "         0.17707491,  0.05286548, -0.04985546, -0.04156094,  0.03357669,\n",
       "        -0.10681684, -0.12379117,  0.31140056, -0.16128303, -0.16894087,\n",
       "         0.12400649, -0.35468733, -0.17391169], dtype=float32),\n",
       " 'prob': 0.5397119,\n",
       " 'rnn': array([[ 0.00746937, -0.00922118,  0.00707032, ..., -0.01116537,\n",
       "         -0.0110826 , -0.01731905],\n",
       "        [-0.00188209, -0.00787588,  0.01923963, ..., -0.0082735 ,\n",
       "         -0.0063418 , -0.01452938],\n",
       "        [ 0.01163694, -0.0027914 ,  0.0194212 , ..., -0.02989989,\n",
       "         -0.02009729, -0.00206107],\n",
       "        ...,\n",
       "        [ 0.        ,  0.        ,  0.        , ...,  0.        ,\n",
       "          0.        ,  0.        ],\n",
       "        [ 0.        ,  0.        ,  0.        , ...,  0.        ,\n",
       "          0.        ,  0.        ],\n",
       "        [ 0.        ,  0.        ,  0.        , ...,  0.        ,\n",
       "          0.        ,  0.        ]], dtype=float32)}"
      ]
     },
     "execution_count": 12,
     "metadata": {},
     "output_type": "execute_result"
    }
   ],
   "source": [
    "res"
   ]
  },
  {
   "cell_type": "code",
   "execution_count": null,
   "metadata": {},
   "outputs": [],
   "source": [
    "plot(res['rnn'][:,6])"
   ]
  },
  {
   "cell_type": "code",
   "execution_count": 74,
   "metadata": {},
   "outputs": [],
   "source": [
    "d, l = input_fn()"
   ]
  },
  {
   "cell_type": "code",
   "execution_count": 29,
   "metadata": {},
   "outputs": [
    {
     "data": {
      "text/plain": [
       "(80, 128)"
      ]
     },
     "execution_count": 29,
     "metadata": {},
     "output_type": "execute_result"
    }
   ],
   "source": [
    "res['rnn'].shape"
   ]
  },
  {
   "cell_type": "code",
   "execution_count": 75,
   "metadata": {},
   "outputs": [
    {
     "data": {
      "text/plain": [
       "{'length': <tf.Tensor 'IteratorGetNext_1:1' shape=(?,) dtype=int32>,\n",
       " 'ts': <tf.Tensor 'IteratorGetNext_1:2' shape=(?, 80, 12) dtype=float32>}"
      ]
     },
     "execution_count": 75,
     "metadata": {},
     "output_type": "execute_result"
    }
   ],
   "source": [
    "d"
   ]
  },
  {
   "cell_type": "code",
   "execution_count": 72,
   "metadata": {},
   "outputs": [
    {
     "data": {
      "text/html": [
       "&lt;Column name=&apos;time_series&apos; dtype=&apos;float32&apos; shape=(80, 12) length=76983&gt;\n",
       "<table>\n",
       "<tr><td>0.0 .. 0.0</td></tr>\n",
       "<tr><td>0.0 .. 0.0</td></tr>\n",
       "<tr><td>0.0 .. 0.0</td></tr>\n",
       "<tr><td>0.0 .. 0.0</td></tr>\n",
       "<tr><td>0.0 .. 0.0</td></tr>\n",
       "<tr><td>0.0 .. 0.0</td></tr>\n",
       "<tr><td>0.0 .. 0.0</td></tr>\n",
       "<tr><td>0.0 .. 0.0</td></tr>\n",
       "<tr><td>0.0 .. 0.0</td></tr>\n",
       "<tr><td>0.0 .. 0.0</td></tr>\n",
       "<tr><td>0.0 .. 0.0</td></tr>\n",
       "<tr><td>0.0 .. 0.0</td></tr>\n",
       "<tr><td>...</td></tr>\n",
       "<tr><td>0.0 .. 0.0</td></tr>\n",
       "<tr><td>0.0 .. 0.0</td></tr>\n",
       "<tr><td>0.0 .. 0.0</td></tr>\n",
       "<tr><td>0.0 .. 0.0</td></tr>\n",
       "<tr><td>0.0 .. 0.0</td></tr>\n",
       "<tr><td>0.0 .. 0.0</td></tr>\n",
       "<tr><td>0.0 .. 0.0</td></tr>\n",
       "<tr><td>0.0 .. 0.0</td></tr>\n",
       "<tr><td>0.0 .. 0.0</td></tr>\n",
       "<tr><td>0.0 .. 0.0</td></tr>\n",
       "<tr><td>0.0 .. 0.0</td></tr>\n",
       "<tr><td>0.0 .. 0.0</td></tr>\n",
       "</table>"
      ],
      "text/plain": [
       "<Column name='time_series' dtype='float32' shape=(80, 12) length=76983>\n",
       "0.0 .. 0.0\n",
       "0.0 .. 0.0\n",
       "0.0 .. 0.0\n",
       "0.0 .. 0.0\n",
       "0.0 .. 0.0\n",
       "0.0 .. 0.0\n",
       "0.0 .. 0.0\n",
       "0.0 .. 0.0\n",
       "0.0 .. 0.0\n",
       "0.0 .. 0.0\n",
       "0.0 .. 0.0\n",
       "0.0 .. 0.0\n",
       "       ...\n",
       "0.0 .. 0.0\n",
       "0.0 .. 0.0\n",
       "0.0 .. 0.0\n",
       "0.0 .. 0.0\n",
       "0.0 .. 0.0\n",
       "0.0 .. 0.0\n",
       "0.0 .. 0.0\n",
       "0.0 .. 0.0\n",
       "0.0 .. 0.0\n",
       "0.0 .. 0.0\n",
       "0.0 .. 0.0\n",
       "0.0 .. 0.0"
      ]
     },
     "execution_count": 72,
     "metadata": {},
     "output_type": "execute_result"
    }
   ],
   "source": [
    "data_table['time_series']"
   ]
  },
  {
   "cell_type": "code",
   "execution_count": 13,
   "metadata": {},
   "outputs": [
    {
     "ename": "AttributeError",
     "evalue": "'Column' object has no attribute 'to_pandas'",
     "output_type": "error",
     "traceback": [
      "\u001b[0;31m---------------------------------------------------------------------------\u001b[0m",
      "\u001b[0;31mAttributeError\u001b[0m                            Traceback (most recent call last)",
      "\u001b[0;32m<ipython-input-13-a9153881c380>\u001b[0m in \u001b[0;36m<module>\u001b[0;34m()\u001b[0m\n\u001b[0;32m----> 1\u001b[0;31m \u001b[0mlabel_dataset\u001b[0m \u001b[0;34m=\u001b[0m \u001b[0mtf\u001b[0m\u001b[0;34m.\u001b[0m\u001b[0mdata\u001b[0m\u001b[0;34m.\u001b[0m\u001b[0mDataset\u001b[0m\u001b[0;34m.\u001b[0m\u001b[0mfrom_tensor_slices\u001b[0m\u001b[0;34m(\u001b[0m\u001b[0mdata_table\u001b[0m\u001b[0;34m[\u001b[0m\u001b[0;34m'label'\u001b[0m\u001b[0;34m]\u001b[0m\u001b[0;34m.\u001b[0m\u001b[0mto_pandas\u001b[0m\u001b[0;34m(\u001b[0m\u001b[0;34m)\u001b[0m\u001b[0;34m)\u001b[0m\u001b[0;34m\u001b[0m\u001b[0m\n\u001b[0m\u001b[1;32m      2\u001b[0m \u001b[0mts_dataset\u001b[0m \u001b[0;34m=\u001b[0m \u001b[0mtf\u001b[0m\u001b[0;34m.\u001b[0m\u001b[0mdata\u001b[0m\u001b[0;34m.\u001b[0m\u001b[0mDataset\u001b[0m\u001b[0;34m.\u001b[0m\u001b[0mfrom_tensor_slices\u001b[0m\u001b[0;34m(\u001b[0m\u001b[0mdata_table\u001b[0m\u001b[0;34m[\u001b[0m\u001b[0;34m'time_series'\u001b[0m\u001b[0;34m]\u001b[0m\u001b[0;34m)\u001b[0m\u001b[0;34m\u001b[0m\u001b[0m\n",
      "\u001b[0;31mAttributeError\u001b[0m: 'Column' object has no attribute 'to_pandas'"
     ]
    }
   ],
   "source": [
    "label_dataset = tf.data.Dataset.from_tensor_slices(data_table['label'].to_pandas())\n",
    "ts_dataset = tf.data.Dataset.from_tensor_slices(data_table['time_series'])"
   ]
  },
  {
   "cell_type": "code",
   "execution_count": 16,
   "metadata": {},
   "outputs": [
    {
     "ename": "TypeError",
     "evalue": "Cannot convert value dtype('>f4') to a TensorFlow DType.",
     "output_type": "error",
     "traceback": [
      "\u001b[0;31m---------------------------------------------------------------------------\u001b[0m",
      "\u001b[0;31mTypeError\u001b[0m                                 Traceback (most recent call last)",
      "\u001b[0;32m<ipython-input-16-bb624f427b75>\u001b[0m in \u001b[0;36m<module>\u001b[0;34m()\u001b[0m\n\u001b[1;32m      1\u001b[0m \u001b[0mlabel_dataset\u001b[0m \u001b[0;34m=\u001b[0m \u001b[0mtf\u001b[0m\u001b[0;34m.\u001b[0m\u001b[0mdata\u001b[0m\u001b[0;34m.\u001b[0m\u001b[0mDataset\u001b[0m\u001b[0;34m.\u001b[0m\u001b[0mfrom_tensor_slices\u001b[0m\u001b[0;34m(\u001b[0m\u001b[0mdata_table\u001b[0m\u001b[0;34m[\u001b[0m\u001b[0;34m'label'\u001b[0m\u001b[0;34m]\u001b[0m\u001b[0;34m.\u001b[0m\u001b[0mastype\u001b[0m\u001b[0;34m(\u001b[0m\u001b[0;34m'int32'\u001b[0m\u001b[0;34m)\u001b[0m\u001b[0;34m)\u001b[0m\u001b[0;34m\u001b[0m\u001b[0m\n\u001b[0;32m----> 2\u001b[0;31m \u001b[0mts_dataset\u001b[0m \u001b[0;34m=\u001b[0m \u001b[0mtf\u001b[0m\u001b[0;34m.\u001b[0m\u001b[0mdata\u001b[0m\u001b[0;34m.\u001b[0m\u001b[0mDataset\u001b[0m\u001b[0;34m.\u001b[0m\u001b[0mfrom_tensor_slices\u001b[0m\u001b[0;34m(\u001b[0m\u001b[0mdata_table\u001b[0m\u001b[0;34m[\u001b[0m\u001b[0;34m'time_series'\u001b[0m\u001b[0;34m]\u001b[0m\u001b[0;34m)\u001b[0m\u001b[0;34m\u001b[0m\u001b[0m\n\u001b[0m",
      "\u001b[0;32m/usr/lib/python3.6/site-packages/tensorflow/python/data/ops/dataset_ops.py\u001b[0m in \u001b[0;36mfrom_tensor_slices\u001b[0;34m(tensors)\u001b[0m\n\u001b[1;32m    219\u001b[0m       \u001b[0mDataset\u001b[0m\u001b[0;34m:\u001b[0m \u001b[0mA\u001b[0m\u001b[0;31m \u001b[0m\u001b[0;31m`\u001b[0m\u001b[0mDataset\u001b[0m\u001b[0;31m`\u001b[0m\u001b[0;34m.\u001b[0m\u001b[0;34m\u001b[0m\u001b[0m\n\u001b[1;32m    220\u001b[0m     \"\"\"\n\u001b[0;32m--> 221\u001b[0;31m     \u001b[0;32mreturn\u001b[0m \u001b[0mTensorSliceDataset\u001b[0m\u001b[0;34m(\u001b[0m\u001b[0mtensors\u001b[0m\u001b[0;34m)\u001b[0m\u001b[0;34m\u001b[0m\u001b[0m\n\u001b[0m\u001b[1;32m    222\u001b[0m \u001b[0;34m\u001b[0m\u001b[0m\n\u001b[1;32m    223\u001b[0m   \u001b[0;34m@\u001b[0m\u001b[0mstaticmethod\u001b[0m\u001b[0;34m\u001b[0m\u001b[0m\n",
      "\u001b[0;32m/usr/lib/python3.6/site-packages/tensorflow/python/data/ops/dataset_ops.py\u001b[0m in \u001b[0;36m__init__\u001b[0;34m(self, tensors)\u001b[0m\n\u001b[1;32m    967\u001b[0m           if sparse_tensor_lib.is_sparse(t) else ops.convert_to_tensor(\n\u001b[1;32m    968\u001b[0m               t, name=\"component_%d\" % i)\n\u001b[0;32m--> 969\u001b[0;31m           \u001b[0;32mfor\u001b[0m \u001b[0mi\u001b[0m\u001b[0;34m,\u001b[0m \u001b[0mt\u001b[0m \u001b[0;32min\u001b[0m \u001b[0menumerate\u001b[0m\u001b[0;34m(\u001b[0m\u001b[0mnest\u001b[0m\u001b[0;34m.\u001b[0m\u001b[0mflatten\u001b[0m\u001b[0;34m(\u001b[0m\u001b[0mtensors\u001b[0m\u001b[0;34m)\u001b[0m\u001b[0;34m)\u001b[0m\u001b[0;34m\u001b[0m\u001b[0m\n\u001b[0m\u001b[1;32m    970\u001b[0m       ])\n\u001b[1;32m    971\u001b[0m       \u001b[0mflat_tensors\u001b[0m \u001b[0;34m=\u001b[0m \u001b[0mnest\u001b[0m\u001b[0;34m.\u001b[0m\u001b[0mflatten\u001b[0m\u001b[0;34m(\u001b[0m\u001b[0mtensors\u001b[0m\u001b[0;34m)\u001b[0m\u001b[0;34m\u001b[0m\u001b[0m\n",
      "\u001b[0;32m/usr/lib/python3.6/site-packages/tensorflow/python/data/ops/dataset_ops.py\u001b[0m in \u001b[0;36m<listcomp>\u001b[0;34m(.0)\u001b[0m\n\u001b[1;32m    967\u001b[0m           if sparse_tensor_lib.is_sparse(t) else ops.convert_to_tensor(\n\u001b[1;32m    968\u001b[0m               t, name=\"component_%d\" % i)\n\u001b[0;32m--> 969\u001b[0;31m           \u001b[0;32mfor\u001b[0m \u001b[0mi\u001b[0m\u001b[0;34m,\u001b[0m \u001b[0mt\u001b[0m \u001b[0;32min\u001b[0m \u001b[0menumerate\u001b[0m\u001b[0;34m(\u001b[0m\u001b[0mnest\u001b[0m\u001b[0;34m.\u001b[0m\u001b[0mflatten\u001b[0m\u001b[0;34m(\u001b[0m\u001b[0mtensors\u001b[0m\u001b[0;34m)\u001b[0m\u001b[0;34m)\u001b[0m\u001b[0;34m\u001b[0m\u001b[0m\n\u001b[0m\u001b[1;32m    970\u001b[0m       ])\n\u001b[1;32m    971\u001b[0m       \u001b[0mflat_tensors\u001b[0m \u001b[0;34m=\u001b[0m \u001b[0mnest\u001b[0m\u001b[0;34m.\u001b[0m\u001b[0mflatten\u001b[0m\u001b[0;34m(\u001b[0m\u001b[0mtensors\u001b[0m\u001b[0;34m)\u001b[0m\u001b[0;34m\u001b[0m\u001b[0m\n",
      "\u001b[0;32m/usr/lib/python3.6/site-packages/tensorflow/python/framework/ops.py\u001b[0m in \u001b[0;36mconvert_to_tensor\u001b[0;34m(value, dtype, name, preferred_dtype)\u001b[0m\n\u001b[1;32m    944\u001b[0m       \u001b[0mname\u001b[0m\u001b[0;34m=\u001b[0m\u001b[0mname\u001b[0m\u001b[0;34m,\u001b[0m\u001b[0;34m\u001b[0m\u001b[0m\n\u001b[1;32m    945\u001b[0m       \u001b[0mpreferred_dtype\u001b[0m\u001b[0;34m=\u001b[0m\u001b[0mpreferred_dtype\u001b[0m\u001b[0;34m,\u001b[0m\u001b[0;34m\u001b[0m\u001b[0m\n\u001b[0;32m--> 946\u001b[0;31m       as_ref=False)\n\u001b[0m\u001b[1;32m    947\u001b[0m \u001b[0;34m\u001b[0m\u001b[0m\n\u001b[1;32m    948\u001b[0m \u001b[0;34m\u001b[0m\u001b[0m\n",
      "\u001b[0;32m/usr/lib/python3.6/site-packages/tensorflow/python/framework/ops.py\u001b[0m in \u001b[0;36minternal_convert_to_tensor\u001b[0;34m(value, dtype, name, as_ref, preferred_dtype, ctx)\u001b[0m\n\u001b[1;32m   1034\u001b[0m \u001b[0;34m\u001b[0m\u001b[0m\n\u001b[1;32m   1035\u001b[0m     \u001b[0;32mif\u001b[0m \u001b[0mret\u001b[0m \u001b[0;32mis\u001b[0m \u001b[0;32mNone\u001b[0m\u001b[0;34m:\u001b[0m\u001b[0;34m\u001b[0m\u001b[0m\n\u001b[0;32m-> 1036\u001b[0;31m       \u001b[0mret\u001b[0m \u001b[0;34m=\u001b[0m \u001b[0mconversion_func\u001b[0m\u001b[0;34m(\u001b[0m\u001b[0mvalue\u001b[0m\u001b[0;34m,\u001b[0m \u001b[0mdtype\u001b[0m\u001b[0;34m=\u001b[0m\u001b[0mdtype\u001b[0m\u001b[0;34m,\u001b[0m \u001b[0mname\u001b[0m\u001b[0;34m=\u001b[0m\u001b[0mname\u001b[0m\u001b[0;34m,\u001b[0m \u001b[0mas_ref\u001b[0m\u001b[0;34m=\u001b[0m\u001b[0mas_ref\u001b[0m\u001b[0;34m)\u001b[0m\u001b[0;34m\u001b[0m\u001b[0m\n\u001b[0m\u001b[1;32m   1037\u001b[0m \u001b[0;34m\u001b[0m\u001b[0m\n\u001b[1;32m   1038\u001b[0m     \u001b[0;32mif\u001b[0m \u001b[0mret\u001b[0m \u001b[0;32mis\u001b[0m \u001b[0mNotImplemented\u001b[0m\u001b[0;34m:\u001b[0m\u001b[0;34m\u001b[0m\u001b[0m\n",
      "\u001b[0;32m/usr/lib/python3.6/site-packages/tensorflow/python/framework/constant_op.py\u001b[0m in \u001b[0;36m_constant_tensor_conversion_function\u001b[0;34m(v, dtype, name, as_ref)\u001b[0m\n\u001b[1;32m    233\u001b[0m                                          as_ref=False):\n\u001b[1;32m    234\u001b[0m   \u001b[0m_\u001b[0m \u001b[0;34m=\u001b[0m \u001b[0mas_ref\u001b[0m\u001b[0;34m\u001b[0m\u001b[0m\n\u001b[0;32m--> 235\u001b[0;31m   \u001b[0;32mreturn\u001b[0m \u001b[0mconstant\u001b[0m\u001b[0;34m(\u001b[0m\u001b[0mv\u001b[0m\u001b[0;34m,\u001b[0m \u001b[0mdtype\u001b[0m\u001b[0;34m=\u001b[0m\u001b[0mdtype\u001b[0m\u001b[0;34m,\u001b[0m \u001b[0mname\u001b[0m\u001b[0;34m=\u001b[0m\u001b[0mname\u001b[0m\u001b[0;34m)\u001b[0m\u001b[0;34m\u001b[0m\u001b[0m\n\u001b[0m\u001b[1;32m    236\u001b[0m \u001b[0;34m\u001b[0m\u001b[0m\n\u001b[1;32m    237\u001b[0m \u001b[0;34m\u001b[0m\u001b[0m\n",
      "\u001b[0;32m/usr/lib/python3.6/site-packages/tensorflow/python/framework/constant_op.py\u001b[0m in \u001b[0;36mconstant\u001b[0;34m(value, dtype, shape, name, verify_shape)\u001b[0m\n\u001b[1;32m    212\u001b[0m   tensor_value.tensor.CopyFrom(\n\u001b[1;32m    213\u001b[0m       tensor_util.make_tensor_proto(\n\u001b[0;32m--> 214\u001b[0;31m           value, dtype=dtype, shape=shape, verify_shape=verify_shape))\n\u001b[0m\u001b[1;32m    215\u001b[0m   \u001b[0mdtype_value\u001b[0m \u001b[0;34m=\u001b[0m \u001b[0mattr_value_pb2\u001b[0m\u001b[0;34m.\u001b[0m\u001b[0mAttrValue\u001b[0m\u001b[0;34m(\u001b[0m\u001b[0mtype\u001b[0m\u001b[0;34m=\u001b[0m\u001b[0mtensor_value\u001b[0m\u001b[0;34m.\u001b[0m\u001b[0mtensor\u001b[0m\u001b[0;34m.\u001b[0m\u001b[0mdtype\u001b[0m\u001b[0;34m)\u001b[0m\u001b[0;34m\u001b[0m\u001b[0m\n\u001b[1;32m    216\u001b[0m   const_tensor = g.create_op(\n",
      "\u001b[0;32m/usr/lib/python3.6/site-packages/tensorflow/python/framework/tensor_util.py\u001b[0m in \u001b[0;36mmake_tensor_proto\u001b[0;34m(values, dtype, shape, verify_shape)\u001b[0m\n\u001b[1;32m    454\u001b[0m   \u001b[0;31m# if dtype is provided, it must be compatible with what numpy\u001b[0m\u001b[0;34m\u001b[0m\u001b[0;34m\u001b[0m\u001b[0m\n\u001b[1;32m    455\u001b[0m   \u001b[0;31m# conversion says.\u001b[0m\u001b[0;34m\u001b[0m\u001b[0;34m\u001b[0m\u001b[0m\n\u001b[0;32m--> 456\u001b[0;31m   \u001b[0mnumpy_dtype\u001b[0m \u001b[0;34m=\u001b[0m \u001b[0mdtypes\u001b[0m\u001b[0;34m.\u001b[0m\u001b[0mas_dtype\u001b[0m\u001b[0;34m(\u001b[0m\u001b[0mnparray\u001b[0m\u001b[0;34m.\u001b[0m\u001b[0mdtype\u001b[0m\u001b[0;34m)\u001b[0m\u001b[0;34m\u001b[0m\u001b[0m\n\u001b[0m\u001b[1;32m    457\u001b[0m   \u001b[0;32mif\u001b[0m \u001b[0mnumpy_dtype\u001b[0m \u001b[0;32mis\u001b[0m \u001b[0;32mNone\u001b[0m\u001b[0;34m:\u001b[0m\u001b[0;34m\u001b[0m\u001b[0m\n\u001b[1;32m    458\u001b[0m     \u001b[0;32mraise\u001b[0m \u001b[0mTypeError\u001b[0m\u001b[0;34m(\u001b[0m\u001b[0;34m\"Unrecognized data type: %s\"\u001b[0m \u001b[0;34m%\u001b[0m \u001b[0mnparray\u001b[0m\u001b[0;34m.\u001b[0m\u001b[0mdtype\u001b[0m\u001b[0;34m)\u001b[0m\u001b[0;34m\u001b[0m\u001b[0m\n",
      "\u001b[0;32m/usr/lib/python3.6/site-packages/tensorflow/python/framework/dtypes.py\u001b[0m in \u001b[0;36mas_dtype\u001b[0;34m(type_value)\u001b[0m\n\u001b[1;32m    693\u001b[0m       \u001b[0;32mraise\u001b[0m \u001b[0mTypeError\u001b[0m\u001b[0;34m(\u001b[0m\u001b[0;34m\"Cannot convert {} to a dtype. {}\"\u001b[0m\u001b[0;34m.\u001b[0m\u001b[0mformat\u001b[0m\u001b[0;34m(\u001b[0m\u001b[0mtype_value\u001b[0m\u001b[0;34m,\u001b[0m \u001b[0me\u001b[0m\u001b[0;34m)\u001b[0m\u001b[0;34m)\u001b[0m\u001b[0;34m\u001b[0m\u001b[0m\n\u001b[1;32m    694\u001b[0m \u001b[0;34m\u001b[0m\u001b[0m\n\u001b[0;32m--> 695\u001b[0;31m   \u001b[0;32mraise\u001b[0m \u001b[0mTypeError\u001b[0m\u001b[0;34m(\u001b[0m\u001b[0;34m\"Cannot convert value %r to a TensorFlow DType.\"\u001b[0m \u001b[0;34m%\u001b[0m \u001b[0mtype_value\u001b[0m\u001b[0;34m)\u001b[0m\u001b[0;34m\u001b[0m\u001b[0m\n\u001b[0m",
      "\u001b[0;31mTypeError\u001b[0m: Cannot convert value dtype('>f4') to a TensorFlow DType."
     ]
    }
   ],
   "source": [
    "label_dataset = tf.data.Dataset.from_tensor_slices(data_table['label'].astype('int32'))\n",
    "ts_dataset = tf.data.Dataset.from_tensor_slices(data_table['time_series'])"
   ]
  },
  {
   "cell_type": "code",
   "execution_count": 9,
   "metadata": {},
   "outputs": [
    {
     "ename": "TypeError",
     "evalue": "Cannot convert value dtype([('label', '<i8'), ('time_series', '<f4', (80, 12))]) to a TensorFlow DType.",
     "output_type": "error",
     "traceback": [
      "\u001b[0;31m---------------------------------------------------------------------------\u001b[0m",
      "\u001b[0;31mTypeError\u001b[0m                                 Traceback (most recent call last)",
      "\u001b[0;32m<ipython-input-9-9640d37fd8c8>\u001b[0m in \u001b[0;36m<module>\u001b[0;34m()\u001b[0m\n\u001b[0;32m----> 1\u001b[0;31m \u001b[0mdataset\u001b[0m \u001b[0;34m=\u001b[0m \u001b[0mtf\u001b[0m\u001b[0;34m.\u001b[0m\u001b[0mdata\u001b[0m\u001b[0;34m.\u001b[0m\u001b[0mDataset\u001b[0m\u001b[0;34m.\u001b[0m\u001b[0mfrom_tensor_slices\u001b[0m\u001b[0;34m(\u001b[0m\u001b[0mdata_table\u001b[0m\u001b[0;34m[\u001b[0m\u001b[0;34m[\u001b[0m\u001b[0;34m'label'\u001b[0m\u001b[0;34m,\u001b[0m \u001b[0;34m'time_series'\u001b[0m\u001b[0;34m]\u001b[0m\u001b[0;34m]\u001b[0m\u001b[0;34m)\u001b[0m\u001b[0;34m\u001b[0m\u001b[0m\n\u001b[0m",
      "\u001b[0;32m/usr/lib/python3.6/site-packages/tensorflow/python/data/ops/dataset_ops.py\u001b[0m in \u001b[0;36mfrom_tensor_slices\u001b[0;34m(tensors)\u001b[0m\n\u001b[1;32m    219\u001b[0m       \u001b[0mDataset\u001b[0m\u001b[0;34m:\u001b[0m \u001b[0mA\u001b[0m\u001b[0;31m \u001b[0m\u001b[0;31m`\u001b[0m\u001b[0mDataset\u001b[0m\u001b[0;31m`\u001b[0m\u001b[0;34m.\u001b[0m\u001b[0;34m\u001b[0m\u001b[0m\n\u001b[1;32m    220\u001b[0m     \"\"\"\n\u001b[0;32m--> 221\u001b[0;31m     \u001b[0;32mreturn\u001b[0m \u001b[0mTensorSliceDataset\u001b[0m\u001b[0;34m(\u001b[0m\u001b[0mtensors\u001b[0m\u001b[0;34m)\u001b[0m\u001b[0;34m\u001b[0m\u001b[0m\n\u001b[0m\u001b[1;32m    222\u001b[0m \u001b[0;34m\u001b[0m\u001b[0m\n\u001b[1;32m    223\u001b[0m   \u001b[0;34m@\u001b[0m\u001b[0mstaticmethod\u001b[0m\u001b[0;34m\u001b[0m\u001b[0m\n",
      "\u001b[0;32m/usr/lib/python3.6/site-packages/tensorflow/python/data/ops/dataset_ops.py\u001b[0m in \u001b[0;36m__init__\u001b[0;34m(self, tensors)\u001b[0m\n\u001b[1;32m    967\u001b[0m           if sparse_tensor_lib.is_sparse(t) else ops.convert_to_tensor(\n\u001b[1;32m    968\u001b[0m               t, name=\"component_%d\" % i)\n\u001b[0;32m--> 969\u001b[0;31m           \u001b[0;32mfor\u001b[0m \u001b[0mi\u001b[0m\u001b[0;34m,\u001b[0m \u001b[0mt\u001b[0m \u001b[0;32min\u001b[0m \u001b[0menumerate\u001b[0m\u001b[0;34m(\u001b[0m\u001b[0mnest\u001b[0m\u001b[0;34m.\u001b[0m\u001b[0mflatten\u001b[0m\u001b[0;34m(\u001b[0m\u001b[0mtensors\u001b[0m\u001b[0;34m)\u001b[0m\u001b[0;34m)\u001b[0m\u001b[0;34m\u001b[0m\u001b[0m\n\u001b[0m\u001b[1;32m    970\u001b[0m       ])\n\u001b[1;32m    971\u001b[0m       \u001b[0mflat_tensors\u001b[0m \u001b[0;34m=\u001b[0m \u001b[0mnest\u001b[0m\u001b[0;34m.\u001b[0m\u001b[0mflatten\u001b[0m\u001b[0;34m(\u001b[0m\u001b[0mtensors\u001b[0m\u001b[0;34m)\u001b[0m\u001b[0;34m\u001b[0m\u001b[0m\n",
      "\u001b[0;32m/usr/lib/python3.6/site-packages/tensorflow/python/data/ops/dataset_ops.py\u001b[0m in \u001b[0;36m<listcomp>\u001b[0;34m(.0)\u001b[0m\n\u001b[1;32m    967\u001b[0m           if sparse_tensor_lib.is_sparse(t) else ops.convert_to_tensor(\n\u001b[1;32m    968\u001b[0m               t, name=\"component_%d\" % i)\n\u001b[0;32m--> 969\u001b[0;31m           \u001b[0;32mfor\u001b[0m \u001b[0mi\u001b[0m\u001b[0;34m,\u001b[0m \u001b[0mt\u001b[0m \u001b[0;32min\u001b[0m \u001b[0menumerate\u001b[0m\u001b[0;34m(\u001b[0m\u001b[0mnest\u001b[0m\u001b[0;34m.\u001b[0m\u001b[0mflatten\u001b[0m\u001b[0;34m(\u001b[0m\u001b[0mtensors\u001b[0m\u001b[0;34m)\u001b[0m\u001b[0;34m)\u001b[0m\u001b[0;34m\u001b[0m\u001b[0m\n\u001b[0m\u001b[1;32m    970\u001b[0m       ])\n\u001b[1;32m    971\u001b[0m       \u001b[0mflat_tensors\u001b[0m \u001b[0;34m=\u001b[0m \u001b[0mnest\u001b[0m\u001b[0;34m.\u001b[0m\u001b[0mflatten\u001b[0m\u001b[0;34m(\u001b[0m\u001b[0mtensors\u001b[0m\u001b[0;34m)\u001b[0m\u001b[0;34m\u001b[0m\u001b[0m\n",
      "\u001b[0;32m/usr/lib/python3.6/site-packages/tensorflow/python/framework/ops.py\u001b[0m in \u001b[0;36mconvert_to_tensor\u001b[0;34m(value, dtype, name, preferred_dtype)\u001b[0m\n\u001b[1;32m    944\u001b[0m       \u001b[0mname\u001b[0m\u001b[0;34m=\u001b[0m\u001b[0mname\u001b[0m\u001b[0;34m,\u001b[0m\u001b[0;34m\u001b[0m\u001b[0m\n\u001b[1;32m    945\u001b[0m       \u001b[0mpreferred_dtype\u001b[0m\u001b[0;34m=\u001b[0m\u001b[0mpreferred_dtype\u001b[0m\u001b[0;34m,\u001b[0m\u001b[0;34m\u001b[0m\u001b[0m\n\u001b[0;32m--> 946\u001b[0;31m       as_ref=False)\n\u001b[0m\u001b[1;32m    947\u001b[0m \u001b[0;34m\u001b[0m\u001b[0m\n\u001b[1;32m    948\u001b[0m \u001b[0;34m\u001b[0m\u001b[0m\n",
      "\u001b[0;32m/usr/lib/python3.6/site-packages/tensorflow/python/framework/ops.py\u001b[0m in \u001b[0;36minternal_convert_to_tensor\u001b[0;34m(value, dtype, name, as_ref, preferred_dtype, ctx)\u001b[0m\n\u001b[1;32m   1034\u001b[0m \u001b[0;34m\u001b[0m\u001b[0m\n\u001b[1;32m   1035\u001b[0m     \u001b[0;32mif\u001b[0m \u001b[0mret\u001b[0m \u001b[0;32mis\u001b[0m \u001b[0;32mNone\u001b[0m\u001b[0;34m:\u001b[0m\u001b[0;34m\u001b[0m\u001b[0m\n\u001b[0;32m-> 1036\u001b[0;31m       \u001b[0mret\u001b[0m \u001b[0;34m=\u001b[0m \u001b[0mconversion_func\u001b[0m\u001b[0;34m(\u001b[0m\u001b[0mvalue\u001b[0m\u001b[0;34m,\u001b[0m \u001b[0mdtype\u001b[0m\u001b[0;34m=\u001b[0m\u001b[0mdtype\u001b[0m\u001b[0;34m,\u001b[0m \u001b[0mname\u001b[0m\u001b[0;34m=\u001b[0m\u001b[0mname\u001b[0m\u001b[0;34m,\u001b[0m \u001b[0mas_ref\u001b[0m\u001b[0;34m=\u001b[0m\u001b[0mas_ref\u001b[0m\u001b[0;34m)\u001b[0m\u001b[0;34m\u001b[0m\u001b[0m\n\u001b[0m\u001b[1;32m   1037\u001b[0m \u001b[0;34m\u001b[0m\u001b[0m\n\u001b[1;32m   1038\u001b[0m     \u001b[0;32mif\u001b[0m \u001b[0mret\u001b[0m \u001b[0;32mis\u001b[0m \u001b[0mNotImplemented\u001b[0m\u001b[0;34m:\u001b[0m\u001b[0;34m\u001b[0m\u001b[0m\n",
      "\u001b[0;32m/usr/lib/python3.6/site-packages/tensorflow/python/framework/constant_op.py\u001b[0m in \u001b[0;36m_constant_tensor_conversion_function\u001b[0;34m(v, dtype, name, as_ref)\u001b[0m\n\u001b[1;32m    233\u001b[0m                                          as_ref=False):\n\u001b[1;32m    234\u001b[0m   \u001b[0m_\u001b[0m \u001b[0;34m=\u001b[0m \u001b[0mas_ref\u001b[0m\u001b[0;34m\u001b[0m\u001b[0m\n\u001b[0;32m--> 235\u001b[0;31m   \u001b[0;32mreturn\u001b[0m \u001b[0mconstant\u001b[0m\u001b[0;34m(\u001b[0m\u001b[0mv\u001b[0m\u001b[0;34m,\u001b[0m \u001b[0mdtype\u001b[0m\u001b[0;34m=\u001b[0m\u001b[0mdtype\u001b[0m\u001b[0;34m,\u001b[0m \u001b[0mname\u001b[0m\u001b[0;34m=\u001b[0m\u001b[0mname\u001b[0m\u001b[0;34m)\u001b[0m\u001b[0;34m\u001b[0m\u001b[0m\n\u001b[0m\u001b[1;32m    236\u001b[0m \u001b[0;34m\u001b[0m\u001b[0m\n\u001b[1;32m    237\u001b[0m \u001b[0;34m\u001b[0m\u001b[0m\n",
      "\u001b[0;32m/usr/lib/python3.6/site-packages/tensorflow/python/framework/constant_op.py\u001b[0m in \u001b[0;36mconstant\u001b[0;34m(value, dtype, shape, name, verify_shape)\u001b[0m\n\u001b[1;32m    212\u001b[0m   tensor_value.tensor.CopyFrom(\n\u001b[1;32m    213\u001b[0m       tensor_util.make_tensor_proto(\n\u001b[0;32m--> 214\u001b[0;31m           value, dtype=dtype, shape=shape, verify_shape=verify_shape))\n\u001b[0m\u001b[1;32m    215\u001b[0m   \u001b[0mdtype_value\u001b[0m \u001b[0;34m=\u001b[0m \u001b[0mattr_value_pb2\u001b[0m\u001b[0;34m.\u001b[0m\u001b[0mAttrValue\u001b[0m\u001b[0;34m(\u001b[0m\u001b[0mtype\u001b[0m\u001b[0;34m=\u001b[0m\u001b[0mtensor_value\u001b[0m\u001b[0;34m.\u001b[0m\u001b[0mtensor\u001b[0m\u001b[0;34m.\u001b[0m\u001b[0mdtype\u001b[0m\u001b[0;34m)\u001b[0m\u001b[0;34m\u001b[0m\u001b[0m\n\u001b[1;32m    216\u001b[0m   const_tensor = g.create_op(\n",
      "\u001b[0;32m/usr/lib/python3.6/site-packages/tensorflow/python/framework/tensor_util.py\u001b[0m in \u001b[0;36mmake_tensor_proto\u001b[0;34m(values, dtype, shape, verify_shape)\u001b[0m\n\u001b[1;32m    454\u001b[0m   \u001b[0;31m# if dtype is provided, it must be compatible with what numpy\u001b[0m\u001b[0;34m\u001b[0m\u001b[0;34m\u001b[0m\u001b[0m\n\u001b[1;32m    455\u001b[0m   \u001b[0;31m# conversion says.\u001b[0m\u001b[0;34m\u001b[0m\u001b[0;34m\u001b[0m\u001b[0m\n\u001b[0;32m--> 456\u001b[0;31m   \u001b[0mnumpy_dtype\u001b[0m \u001b[0;34m=\u001b[0m \u001b[0mdtypes\u001b[0m\u001b[0;34m.\u001b[0m\u001b[0mas_dtype\u001b[0m\u001b[0;34m(\u001b[0m\u001b[0mnparray\u001b[0m\u001b[0;34m.\u001b[0m\u001b[0mdtype\u001b[0m\u001b[0;34m)\u001b[0m\u001b[0;34m\u001b[0m\u001b[0m\n\u001b[0m\u001b[1;32m    457\u001b[0m   \u001b[0;32mif\u001b[0m \u001b[0mnumpy_dtype\u001b[0m \u001b[0;32mis\u001b[0m \u001b[0;32mNone\u001b[0m\u001b[0;34m:\u001b[0m\u001b[0;34m\u001b[0m\u001b[0m\n\u001b[1;32m    458\u001b[0m     \u001b[0;32mraise\u001b[0m \u001b[0mTypeError\u001b[0m\u001b[0;34m(\u001b[0m\u001b[0;34m\"Unrecognized data type: %s\"\u001b[0m \u001b[0;34m%\u001b[0m \u001b[0mnparray\u001b[0m\u001b[0;34m.\u001b[0m\u001b[0mdtype\u001b[0m\u001b[0;34m)\u001b[0m\u001b[0;34m\u001b[0m\u001b[0m\n",
      "\u001b[0;32m/usr/lib/python3.6/site-packages/tensorflow/python/framework/dtypes.py\u001b[0m in \u001b[0;36mas_dtype\u001b[0;34m(type_value)\u001b[0m\n\u001b[1;32m    693\u001b[0m       \u001b[0;32mraise\u001b[0m \u001b[0mTypeError\u001b[0m\u001b[0;34m(\u001b[0m\u001b[0;34m\"Cannot convert {} to a dtype. {}\"\u001b[0m\u001b[0;34m.\u001b[0m\u001b[0mformat\u001b[0m\u001b[0;34m(\u001b[0m\u001b[0mtype_value\u001b[0m\u001b[0;34m,\u001b[0m \u001b[0me\u001b[0m\u001b[0;34m)\u001b[0m\u001b[0;34m)\u001b[0m\u001b[0;34m\u001b[0m\u001b[0m\n\u001b[1;32m    694\u001b[0m \u001b[0;34m\u001b[0m\u001b[0m\n\u001b[0;32m--> 695\u001b[0;31m   \u001b[0;32mraise\u001b[0m \u001b[0mTypeError\u001b[0m\u001b[0;34m(\u001b[0m\u001b[0;34m\"Cannot convert value %r to a TensorFlow DType.\"\u001b[0m \u001b[0;34m%\u001b[0m \u001b[0mtype_value\u001b[0m\u001b[0;34m)\u001b[0m\u001b[0;34m\u001b[0m\u001b[0m\n\u001b[0m",
      "\u001b[0;31mTypeError\u001b[0m: Cannot convert value dtype([('label', '<i8'), ('time_series', '<f4', (80, 12))]) to a TensorFlow DType."
     ]
    }
   ],
   "source": [
    "dataset = tf.data.Dataset.from_tensor_slices(data_table[['label', 'time_series']])"
   ]
  },
  {
   "cell_type": "code",
   "execution_count": null,
   "metadata": {},
   "outputs": [],
   "source": []
  }
 ],
 "metadata": {
  "kernelspec": {
   "display_name": "Python 3",
   "language": "python",
   "name": "python3"
  },
  "language_info": {
   "codemirror_mode": {
    "name": "ipython",
    "version": 3
   },
   "file_extension": ".py",
   "mimetype": "text/x-python",
   "name": "python",
   "nbconvert_exporter": "python",
   "pygments_lexer": "ipython3",
   "version": "3.6.4"
  }
 },
 "nbformat": 4,
 "nbformat_minor": 2
}
